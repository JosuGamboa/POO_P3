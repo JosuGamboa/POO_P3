{
 "cells": [
  {
   "cell_type": "markdown",
   "id": "0dfb8eb8",
   "metadata": {},
   "source": [
    "## El problema del paradigma procedural"
   ]
  },
  {
   "cell_type": "code",
   "execution_count": null,
   "id": "f2d6a5da",
   "metadata": {},
   "outputs": [],
   "source": [
    "numero = 123\n",
    "titular = 'Anacleto Metralla'\n",
    "saldo = 100.0\n",
    "limite = 1000.0"
   ]
  },
  {
   "cell_type": "code",
   "execution_count": null,
   "id": "96f5aca4",
   "metadata": {},
   "outputs": [],
   "source": [
    "cuenta = {'numero': 123, 'titular':'Anacleto Metralla', 'saldo':100., 'limite':1000.0}"
   ]
  },
  {
   "cell_type": "code",
   "execution_count": null,
   "id": "73f07ffb",
   "metadata": {},
   "outputs": [],
   "source": [
    "cuenta['numero']"
   ]
  },
  {
   "cell_type": "code",
   "execution_count": null,
   "id": "4839099a",
   "metadata": {},
   "outputs": [],
   "source": [
    "cuenta['saldo']"
   ]
  },
  {
   "cell_type": "code",
   "execution_count": null,
   "id": "0aa2c13b",
   "metadata": {},
   "outputs": [],
   "source": [
    "cuenta2 = {'numero': 321, 'titular':'Rosa Flores Rojas', 'saldo':65., 'limite':1000.0}"
   ]
  },
  {
   "cell_type": "markdown",
   "id": "d912298b",
   "metadata": {},
   "source": [
    "## ¿Como podriamos encapsular este codigo?"
   ]
  },
  {
   "cell_type": "markdown",
   "id": "97413ee7",
   "metadata": {},
   "source": [
    "## Mediante el uso de una funcion"
   ]
  },
  {
   "cell_type": "code",
   "execution_count": null,
   "id": "ad276c1d",
   "metadata": {},
   "outputs": [],
   "source": [
    "from test import crear_cuenta\n",
    "cuenta = crear_cuenta(123, 'Anacleto Metralla', 100.0, 1000.0)"
   ]
  },
  {
   "cell_type": "code",
   "execution_count": null,
   "id": "844cd633",
   "metadata": {},
   "outputs": [],
   "source": [
    "cuenta['numero']"
   ]
  },
  {
   "cell_type": "code",
   "execution_count": null,
   "id": "eb129dbc",
   "metadata": {},
   "outputs": [],
   "source": [
    "def depositar(cuenta, valor):\n",
    "    cuenta['saldo'] = cuenta['saldo'] + valor\n",
    "    \n",
    "def retirar(cuenta, valor):\n",
    "    cuenta['saldo'] = cuenta['saldo'] - valor\n",
    "    \n",
    "def extracto(cuenta):\n",
    "    print('saldo actual es de Bs.{}'.format(cuenta['saldo']))"
   ]
  },
  {
   "cell_type": "markdown",
   "id": "386ed2ee",
   "metadata": {},
   "source": [
    "## Vamos a probar nuestra implementacion"
   ]
  },
  {
   "cell_type": "code",
   "execution_count": null,
   "id": "68c305c7",
   "metadata": {},
   "outputs": [],
   "source": [
    "from test import crear_cuenta, depositar, retirar, extracto\n",
    "cuenta = crear_cuenta(123, \"Anacleto Metralla\", 100.0, 1000.0)\n",
    "depositar(cuenta, 30)\n",
    "extracto(cuenta)"
   ]
  },
  {
   "cell_type": "code",
   "execution_count": null,
   "id": "2db0096b",
   "metadata": {},
   "outputs": [],
   "source": [
    "retirar (cuenta, 50)\n",
    "extracto(cuenta)"
   ]
  },
  {
   "cell_type": "markdown",
   "id": "7da05cbb",
   "metadata": {},
   "source": [
    "## Pero no hay una fuerte conexion entre cuenta y sus funcionalidades"
   ]
  },
  {
   "cell_type": "code",
   "execution_count": null,
   "id": "f438c07b",
   "metadata": {},
   "outputs": [],
   "source": [
    "cuenta['saldo'] = cuenta['saldo'] +120\n",
    "cuenta['saldo']"
   ]
  },
  {
   "cell_type": "code",
   "execution_count": null,
   "id": "bc1ff342",
   "metadata": {},
   "outputs": [],
   "source": [
    "cuenta_2 = {'numero': 321, 'saldo':300}"
   ]
  },
  {
   "cell_type": "code",
   "execution_count": null,
   "id": "f99f3f05",
   "metadata": {},
   "outputs": [],
   "source": [
    "depositar(cuenta_2, 100)"
   ]
  },
  {
   "cell_type": "code",
   "execution_count": null,
   "id": "d5a19806",
   "metadata": {},
   "outputs": [],
   "source": [
    "extracto(cuenta_2)"
   ]
  },
  {
   "cell_type": "markdown",
   "id": "cdc57481",
   "metadata": {},
   "source": [
    "## Vamos a crear un nuevo archivo cuenta.py que tendra el siguiente codigo ..."
   ]
  },
  {
   "cell_type": "code",
   "execution_count": null,
   "id": "4098f86c",
   "metadata": {},
   "outputs": [],
   "source": [
    "class Cuenta:\n",
    "    pass"
   ]
  },
  {
   "cell_type": "code",
   "execution_count": null,
   "id": "2b474ff6",
   "metadata": {},
   "outputs": [],
   "source": [
    "from cuenta import Cuenta\n",
    "Cuenta()"
   ]
  },
  {
   "cell_type": "code",
   "execution_count": null,
   "id": "2dc22fbd",
   "metadata": {},
   "outputs": [],
   "source": [
    "cuenta = Cuenta()\n",
    "cuenta"
   ]
  },
  {
   "cell_type": "markdown",
   "id": "58c4d0ec",
   "metadata": {},
   "source": [
    "## Vamos a implementar nuestra clase .. Cuenta"
   ]
  },
  {
   "cell_type": "code",
   "execution_count": 2,
   "id": "b42efa12",
   "metadata": {},
   "outputs": [],
   "source": [
    "class Cuenta:\n",
    "    def __init__(self):\n",
    "        print('Construyendo un objeto....')"
   ]
  },
  {
   "cell_type": "code",
   "execution_count": 3,
   "id": "c98ce340",
   "metadata": {},
   "outputs": [
    {
     "name": "stdout",
     "output_type": "stream",
     "text": [
      "Construyendo un objeto....\n"
     ]
    }
   ],
   "source": [
    "from cuenta import Cuenta\n",
    "cuenta = Cuenta()"
   ]
  },
  {
   "cell_type": "markdown",
   "id": "e4b1b32d",
   "metadata": {},
   "source": [
    "## Vamos a comenzar a definir los..\n",
    "## Atributos"
   ]
  },
  {
   "cell_type": "code",
   "execution_count": 4,
   "id": "f2234a5e",
   "metadata": {},
   "outputs": [],
   "source": [
    "class Cuenta:\n",
    "    def __init__(self):\n",
    "        print('Construyendo el objeto...{}'.format(self))"
   ]
  },
  {
   "cell_type": "code",
   "execution_count": 6,
   "id": "92301def",
   "metadata": {},
   "outputs": [
    {
     "name": "stdout",
     "output_type": "stream",
     "text": [
      "Construyendo un objeto....\n"
     ]
    },
    {
     "data": {
      "text/plain": [
       "<cuenta.Cuenta at 0x1f5acb5d5d0>"
      ]
     },
     "execution_count": 6,
     "metadata": {},
     "output_type": "execute_result"
    }
   ],
   "source": [
    "from cuenta import Cuenta\n",
    "cuenta = Cuenta()\n",
    "cuenta"
   ]
  },
  {
   "cell_type": "markdown",
   "id": "272890b3",
   "metadata": {},
   "source": [
    "## self es la referencia que sabe encontrar el objeto construido en la memoria"
   ]
  },
  {
   "cell_type": "code",
   "execution_count": null,
   "id": "aeebf86e",
   "metadata": {},
   "outputs": [],
   "source": [
    "class Cuenta:\n",
    "    def __init__(self):\n",
    "        print('Construyendo el objeto...{}'.format(self))\n",
    "        self.numero = 123\n",
    "        self.titular = 'Anacleto Metralla'\n",
    "        self.saldo = 100.0\n",
    "        self.limite = 1000.0"
   ]
  }
 ],
 "metadata": {
  "kernelspec": {
   "display_name": "Python 3 (ipykernel)",
   "language": "python",
   "name": "python3"
  },
  "language_info": {
   "codemirror_mode": {
    "name": "ipython",
    "version": 3
   },
   "file_extension": ".py",
   "mimetype": "text/x-python",
   "name": "python",
   "nbconvert_exporter": "python",
   "pygments_lexer": "ipython3",
   "version": "3.11.4"
  }
 },
 "nbformat": 4,
 "nbformat_minor": 5
}
