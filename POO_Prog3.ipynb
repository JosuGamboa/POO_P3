{
 "cells": [
  {
   "cell_type": "markdown",
   "id": "0dfb8eb8",
   "metadata": {},
   "source": [
    "## El problema del paradigma procedural"
   ]
  },
  {
   "cell_type": "code",
   "execution_count": null,
   "id": "f2d6a5da",
   "metadata": {},
   "outputs": [],
   "source": [
    "numero = 123\n",
    "titular = 'Anacleto Metralla'\n",
    "saldo = 100.0\n",
    "limite = 1000.0"
   ]
  },
  {
   "cell_type": "code",
   "execution_count": null,
   "id": "96f5aca4",
   "metadata": {},
   "outputs": [],
   "source": [
    "cuenta = {'numero': 123, 'titular':'Anacleto Metralla', 'saldo':100., 'limite':1000.0}"
   ]
  },
  {
   "cell_type": "code",
   "execution_count": null,
   "id": "73f07ffb",
   "metadata": {},
   "outputs": [],
   "source": [
    "cuenta['numero']"
   ]
  },
  {
   "cell_type": "code",
   "execution_count": null,
   "id": "4839099a",
   "metadata": {},
   "outputs": [],
   "source": [
    "cuenta['saldo']"
   ]
  },
  {
   "cell_type": "code",
   "execution_count": null,
   "id": "0aa2c13b",
   "metadata": {},
   "outputs": [],
   "source": [
    "cuenta2 = {'numero': 321, 'titular':'Rosa Flores Rojas', 'saldo':65., 'limite':1000.0}"
   ]
  },
  {
   "cell_type": "markdown",
   "id": "d912298b",
   "metadata": {},
   "source": [
    "## ¿Como podriamos encapsular este codigo?"
   ]
  },
  {
   "cell_type": "markdown",
   "id": "97413ee7",
   "metadata": {},
   "source": [
    "## Mediante el uso de una funcion"
   ]
  },
  {
   "cell_type": "code",
   "execution_count": null,
   "id": "ad276c1d",
   "metadata": {},
   "outputs": [],
   "source": [
    "from test import crear_cuenta\n",
    "cuenta = crear_cuenta(123, 'Anacleto Metralla', 100.0, 1000.0)"
   ]
  },
  {
   "cell_type": "code",
   "execution_count": null,
   "id": "844cd633",
   "metadata": {},
   "outputs": [],
   "source": [
    "cuenta['numero']"
   ]
  },
  {
   "cell_type": "code",
   "execution_count": null,
   "id": "eb129dbc",
   "metadata": {},
   "outputs": [],
   "source": [
    "def depositar(cuenta, valor):\n",
    "    cuenta['saldo'] = cuenta['saldo'] + valor\n",
    "    \n",
    "def retirar(cuenta, valor):\n",
    "    cuenta['saldo'] = cuenta['saldo'] - valor\n",
    "    \n",
    "def extracto(cuenta):\n",
    "    print('saldo actual es de Bs.{}'.format(cuenta['saldo']))"
   ]
  },
  {
   "cell_type": "markdown",
   "id": "386ed2ee",
   "metadata": {},
   "source": [
    "## Vamos a probar nuestra implementacion"
   ]
  },
  {
   "cell_type": "code",
   "execution_count": null,
   "id": "68c305c7",
   "metadata": {},
   "outputs": [],
   "source": [
    "from test import crear_cuenta, depositar, retirar, extracto\n",
    "cuenta = crear_cuenta(123, \"Anacleto Metralla\", 100.0, 1000.0)\n",
    "depositar(cuenta, 30)\n",
    "extracto(cuenta)"
   ]
  },
  {
   "cell_type": "code",
   "execution_count": null,
   "id": "2db0096b",
   "metadata": {},
   "outputs": [],
   "source": [
    "retirar (cuenta, 50)\n",
    "extracto(cuenta)"
   ]
  },
  {
   "cell_type": "markdown",
   "id": "7da05cbb",
   "metadata": {},
   "source": [
    "## Pero no hay una fuerte conexion entre cuenta y sus funcionalidades"
   ]
  },
  {
   "cell_type": "code",
   "execution_count": null,
   "id": "f438c07b",
   "metadata": {},
   "outputs": [],
   "source": [
    "cuenta['saldo'] = cuenta['saldo'] +120\n",
    "cuenta['saldo']"
   ]
  },
  {
   "cell_type": "code",
   "execution_count": null,
   "id": "bc1ff342",
   "metadata": {},
   "outputs": [],
   "source": [
    "cuenta_2 = {'numero': 321, 'saldo':300}"
   ]
  },
  {
   "cell_type": "code",
   "execution_count": null,
   "id": "f99f3f05",
   "metadata": {},
   "outputs": [],
   "source": [
    "depositar(cuenta_2, 100)"
   ]
  },
  {
   "cell_type": "code",
   "execution_count": null,
   "id": "d5a19806",
   "metadata": {},
   "outputs": [],
   "source": [
    "extracto(cuenta_2)"
   ]
  },
  {
   "cell_type": "markdown",
   "id": "cdc57481",
   "metadata": {},
   "source": [
    "## Vamos a crear un nuevo archivo cuenta.py que tendra el siguiente codigo ..."
   ]
  },
  {
   "cell_type": "code",
   "execution_count": null,
   "id": "4098f86c",
   "metadata": {},
   "outputs": [],
   "source": [
    "class Cuenta:\n",
    "    pass"
   ]
  },
  {
   "cell_type": "code",
   "execution_count": null,
   "id": "2b474ff6",
   "metadata": {},
   "outputs": [],
   "source": [
    "from cuenta import Cuenta\n",
    "Cuenta()"
   ]
  },
  {
   "cell_type": "code",
   "execution_count": null,
   "id": "2dc22fbd",
   "metadata": {},
   "outputs": [],
   "source": [
    "cuenta = Cuenta()\n",
    "cuenta"
   ]
  },
  {
   "cell_type": "markdown",
   "id": "59e4bc07",
   "metadata": {},
   "source": [
    "## Vamos a implementar nuestra clase .. Cuenta"
   ]
  },
  {
   "cell_type": "code",
   "execution_count": null,
   "id": "54de8652",
   "metadata": {},
   "outputs": [],
   "source": [
    "class Cuenta:\n",
    "    def __init__(self):\n",
    "        print('Construyendo un objeto....')"
   ]
  },
  {
   "cell_type": "code",
   "execution_count": null,
   "id": "195f6336",
   "metadata": {},
   "outputs": [],
   "source": [
    "from cuenta import Cuenta\n",
    "cuenta = Cuenta()"
   ]
  },
  {
   "cell_type": "markdown",
   "id": "bf26318b",
   "metadata": {},
   "source": [
    "## Vamos a comenzar a definir los..\n",
    "## Atributos"
   ]
  },
  {
   "cell_type": "code",
   "execution_count": null,
   "id": "2f9b6361",
   "metadata": {},
   "outputs": [],
   "source": [
    "class Cuenta:\n",
    "    def __init__(self):\n",
    "        print('Construyendo el objeto...{}'.format(self))"
   ]
  },
  {
   "cell_type": "code",
   "execution_count": null,
   "id": "9d8f4af7",
   "metadata": {},
   "outputs": [],
   "source": [
    "from cuenta import Cuenta\n",
    "cuenta = Cuenta()\n",
    "cuenta"
   ]
  },
  {
   "cell_type": "markdown",
   "id": "2d5646b7",
   "metadata": {},
   "source": [
    "## self es la referencia que sabe encontrar el objeto construido en la memoria"
   ]
  },
  {
   "cell_type": "code",
   "execution_count": null,
   "id": "d53b87a6",
   "metadata": {},
   "outputs": [],
   "source": [
    "class Cuenta:\n",
    "    def __init__(self, numero, titular, saldo, limite):\n",
    "        print('Construyendo el objeto...{}'.format(self))\n",
    "        self.numero = numero\n",
    "        self.titular = titular\n",
    "        self.saldo = saldo\n",
    "        self.limite = limite"
   ]
  },
  {
   "cell_type": "code",
   "execution_count": null,
   "id": "3f1db98a",
   "metadata": {},
   "outputs": [],
   "source": [
    "from cuenta import Cuenta\n",
    "cuenta = Cuenta(123, 'Anacleto Metralla', 100.0, 1000.0)"
   ]
  },
  {
   "cell_type": "code",
   "execution_count": null,
   "id": "35a68dbf",
   "metadata": {},
   "outputs": [],
   "source": [
    "cuenta2 = Cuenta(321, \"Rosa Flores Rojas\", 65.0, 1000.0)"
   ]
  },
  {
   "cell_type": "code",
   "execution_count": null,
   "id": "61952054",
   "metadata": {},
   "outputs": [],
   "source": [
    "cuenta"
   ]
  },
  {
   "cell_type": "code",
   "execution_count": null,
   "id": "ae269c9b",
   "metadata": {},
   "outputs": [],
   "source": [
    "cuenta2"
   ]
  },
  {
   "cell_type": "markdown",
   "id": "2357fc02",
   "metadata": {},
   "source": [
    "## Accesando a los atributos definidos en la clase"
   ]
  },
  {
   "cell_type": "code",
   "execution_count": null,
   "id": "9d8872b2",
   "metadata": {},
   "outputs": [],
   "source": [
    "cuenta.saldo"
   ]
  },
  {
   "cell_type": "code",
   "execution_count": null,
   "id": "446d2dc9",
   "metadata": {},
   "outputs": [],
   "source": [
    "cuenta.titular"
   ]
  },
  {
   "cell_type": "code",
   "execution_count": null,
   "id": "b8a047bf",
   "metadata": {},
   "outputs": [],
   "source": [
    "cuenta2.saldo"
   ]
  },
  {
   "cell_type": "code",
   "execution_count": null,
   "id": "43cc867e",
   "metadata": {},
   "outputs": [],
   "source": [
    "cuenta2.titular"
   ]
  },
  {
   "cell_type": "markdown",
   "id": "7953b290",
   "metadata": {},
   "source": [
    "## Metodos Como implementamos"
   ]
  },
  {
   "cell_type": "code",
   "execution_count": null,
   "id": "34a63d4e",
   "metadata": {},
   "outputs": [],
   "source": [
    "class Cuenta:\n",
    "    def __init__(self, numero, titular, saldo, limite):\n",
    "        print('Construyendo el objeto...{}'.format(self))\n",
    "        self.numero = numero\n",
    "        self.titular = titular\n",
    "        self.saldo = saldo\n",
    "        self.limite = limite\n",
    "        \n",
    "    def extracto(self):\n",
    "        print('Saldo {} del titular {}'.format(self.saldo, self.titular))"
   ]
  },
  {
   "cell_type": "code",
   "execution_count": 1,
   "id": "d11a6576",
   "metadata": {},
   "outputs": [
    {
     "name": "stdout",
     "output_type": "stream",
     "text": [
      "Construyendo el objeto...<cuenta.Cuenta object at 0x00000227ED129E90>\n"
     ]
    }
   ],
   "source": [
    "from cuenta import Cuenta\n",
    "cuenta = Cuenta(123, 'Anacleto Metralla', 100.0, 1000.0)"
   ]
  },
  {
   "cell_type": "code",
   "execution_count": 2,
   "id": "81bf7bfa",
   "metadata": {},
   "outputs": [
    {
     "ename": "NameError",
     "evalue": "name 'extracto' is not defined",
     "output_type": "error",
     "traceback": [
      "\u001b[1;31m---------------------------------------------------------------------------\u001b[0m",
      "\u001b[1;31mNameError\u001b[0m                                 Traceback (most recent call last)",
      "Cell \u001b[1;32mIn[2], line 1\u001b[0m\n\u001b[1;32m----> 1\u001b[0m extracto()\n",
      "\u001b[1;31mNameError\u001b[0m: name 'extracto' is not defined"
     ]
    }
   ],
   "source": [
    "extracto()"
   ]
  },
  {
   "cell_type": "code",
   "execution_count": 3,
   "id": "59e1d838",
   "metadata": {},
   "outputs": [
    {
     "name": "stdout",
     "output_type": "stream",
     "text": [
      "Construyendo el objeto...<cuenta.Cuenta object at 0x00000227ED9D8390>\n"
     ]
    }
   ],
   "source": [
    "from cuenta import Cuenta\n",
    "cuenta = Cuenta(123, 'Anacleto Metralla', 100.0, 1000.0)"
   ]
  },
  {
   "cell_type": "code",
   "execution_count": 4,
   "id": "58526b72",
   "metadata": {},
   "outputs": [
    {
     "name": "stdout",
     "output_type": "stream",
     "text": [
      "Construyendo el objeto...<cuenta.Cuenta object at 0x00000227ED139CD0>\n"
     ]
    }
   ],
   "source": [
    "cuenta2 = Cuenta(321, \"Rosa Flores Rojas\", 65.0, 1000.0)"
   ]
  },
  {
   "cell_type": "code",
   "execution_count": 5,
   "id": "05cd58c6",
   "metadata": {},
   "outputs": [
    {
     "name": "stdout",
     "output_type": "stream",
     "text": [
      "Saldo 100.0 del titular Anacleto Metralla\n"
     ]
    }
   ],
   "source": [
    "cuenta.extracto()"
   ]
  },
  {
   "cell_type": "code",
   "execution_count": null,
   "id": "9aa31088",
   "metadata": {},
   "outputs": [],
   "source": []
  }
 ],
 "metadata": {
  "kernelspec": {
   "display_name": "Python 3 (ipykernel)",
   "language": "python",
   "name": "python3"
  },
  "language_info": {
   "codemirror_mode": {
    "name": "ipython",
    "version": 3
   },
   "file_extension": ".py",
   "mimetype": "text/x-python",
   "name": "python",
   "nbconvert_exporter": "python",
   "pygments_lexer": "ipython3",
   "version": "3.11.4"
  }
 },
 "nbformat": 4,
 "nbformat_minor": 5
}
