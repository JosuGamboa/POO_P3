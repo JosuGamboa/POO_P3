{
 "cells": [
  {
   "cell_type": "markdown",
   "id": "0dfb8eb8",
   "metadata": {},
   "source": [
    "## El problema del paradigma procedural"
   ]
  },
  {
   "cell_type": "code",
   "execution_count": null,
   "id": "f2d6a5da",
   "metadata": {},
   "outputs": [],
   "source": [
    "numero = 123\n",
    "titular = 'Anacleto Metralla'\n",
    "saldo = 100.0\n",
    "limite = 1000.0"
   ]
  },
  {
   "cell_type": "code",
   "execution_count": null,
   "id": "96f5aca4",
   "metadata": {},
   "outputs": [],
   "source": [
    "cuenta = {'numero': 123, 'titular':'Anacleto Metralla', 'saldo':100., 'limite':1000.0}"
   ]
  },
  {
   "cell_type": "code",
   "execution_count": null,
   "id": "73f07ffb",
   "metadata": {},
   "outputs": [],
   "source": [
    "cuenta['numero']"
   ]
  },
  {
   "cell_type": "code",
   "execution_count": null,
   "id": "4839099a",
   "metadata": {},
   "outputs": [],
   "source": [
    "cuenta['saldo']"
   ]
  },
  {
   "cell_type": "code",
   "execution_count": null,
   "id": "0aa2c13b",
   "metadata": {},
   "outputs": [],
   "source": [
    "cuenta2 = {'numero': 321, 'titular':'Rosa Flores Rojas', 'saldo':65., 'limite':1000.0}"
   ]
  },
  {
   "cell_type": "markdown",
   "id": "d912298b",
   "metadata": {},
   "source": [
    "## ¿Como podriamos encapsular este codigo?"
   ]
  },
  {
   "cell_type": "markdown",
   "id": "97413ee7",
   "metadata": {},
   "source": [
    "## Mediante el uso de una funcion"
   ]
  },
  {
   "cell_type": "code",
   "execution_count": null,
   "id": "ad276c1d",
   "metadata": {},
   "outputs": [],
   "source": [
    "from test import crear_cuenta\n",
    "cuenta = crear_cuenta(123, 'Anacleto Metralla', 100.0, 1000.0)"
   ]
  },
  {
   "cell_type": "code",
   "execution_count": null,
   "id": "844cd633",
   "metadata": {},
   "outputs": [],
   "source": [
    "cuenta['numero']"
   ]
  },
  {
   "cell_type": "code",
   "execution_count": null,
   "id": "eb129dbc",
   "metadata": {},
   "outputs": [],
   "source": [
    "def depositar(cuenta, valor):\n",
    "    cuenta['saldo'] = cuenta['saldo'] + valor\n",
    "    \n",
    "def retirar(cuenta, valor):\n",
    "    cuenta['saldo'] = cuenta['saldo'] - valor\n",
    "    \n",
    "def extracto(cuenta):\n",
    "    print('saldo actual es de Bs.{}'.format(cuenta['saldo']))"
   ]
  },
  {
   "cell_type": "markdown",
   "id": "386ed2ee",
   "metadata": {},
   "source": [
    "## Vamos a probar nuestra implementacion"
   ]
  },
  {
   "cell_type": "code",
   "execution_count": null,
   "id": "68c305c7",
   "metadata": {},
   "outputs": [],
   "source": [
    "from test import crear_cuenta, depositar, retirar, extracto\n",
    "cuenta = crear_cuenta(123, \"Anacleto Metralla\", 100.0, 1000.0)\n",
    "depositar(cuenta, 30)\n",
    "extracto(cuenta)"
   ]
  },
  {
   "cell_type": "code",
   "execution_count": null,
   "id": "2db0096b",
   "metadata": {},
   "outputs": [],
   "source": [
    "retirar (cuenta, 50)\n",
    "extracto(cuenta)"
   ]
  },
  {
   "cell_type": "markdown",
   "id": "7da05cbb",
   "metadata": {},
   "source": [
    "## Pero no hay una fuerte conexion entre cuenta y sus funcionalidades"
   ]
  },
  {
   "cell_type": "code",
   "execution_count": null,
   "id": "f438c07b",
   "metadata": {},
   "outputs": [],
   "source": [
    "cuenta['saldo'] = cuenta['saldo'] +120\n",
    "cuenta['saldo']"
   ]
  },
  {
   "cell_type": "code",
   "execution_count": null,
   "id": "bc1ff342",
   "metadata": {},
   "outputs": [],
   "source": [
    "cuenta_2 = {'numero': 321, 'saldo':300}"
   ]
  },
  {
   "cell_type": "code",
   "execution_count": null,
   "id": "f99f3f05",
   "metadata": {},
   "outputs": [],
   "source": [
    "depositar(cuenta_2, 100)"
   ]
  },
  {
   "cell_type": "code",
   "execution_count": null,
   "id": "d5a19806",
   "metadata": {},
   "outputs": [],
   "source": [
    "extracto(cuenta_2)"
   ]
  },
  {
   "cell_type": "markdown",
   "id": "cdc57481",
   "metadata": {},
   "source": [
    "## Vamos a crear un nuevo archivo cuenta.py que tendra el siguiente codigo ..."
   ]
  },
  {
   "cell_type": "code",
   "execution_count": null,
   "id": "4098f86c",
   "metadata": {},
   "outputs": [],
   "source": [
    "class Cuenta:\n",
    "    pass"
   ]
  },
  {
   "cell_type": "code",
   "execution_count": null,
   "id": "2b474ff6",
   "metadata": {},
   "outputs": [],
   "source": [
    "from cuenta import Cuenta\n",
    "Cuenta()"
   ]
  },
  {
   "cell_type": "code",
   "execution_count": null,
   "id": "2dc22fbd",
   "metadata": {},
   "outputs": [],
   "source": [
    "cuenta = Cuenta()\n",
    "cuenta"
   ]
  },
  {
   "cell_type": "markdown",
   "id": "849f7bb0",
   "metadata": {},
   "source": [
    "## Vamos a implementar nuestra clase .. Cuenta"
   ]
  },
  {
   "cell_type": "code",
   "execution_count": null,
   "id": "9e051b20",
   "metadata": {},
   "outputs": [],
   "source": [
    "class Cuenta:\n",
    "    def __init__(self):\n",
    "        print('Construyendo un objeto....')"
   ]
  },
  {
   "cell_type": "code",
   "execution_count": null,
   "id": "403348ae",
   "metadata": {},
   "outputs": [],
   "source": [
    "from cuenta import Cuenta\n",
    "cuenta = Cuenta()"
   ]
  },
  {
   "cell_type": "markdown",
   "id": "ef4f13b4",
   "metadata": {},
   "source": [
    "## Vamos a comenzar a definir los..\n",
    "## Atributos"
   ]
  },
  {
   "cell_type": "code",
   "execution_count": null,
   "id": "d3480025",
   "metadata": {},
   "outputs": [],
   "source": [
    "class Cuenta:\n",
    "    def __init__(self):\n",
    "        print('Construyendo el objeto...{}'.format(self))"
   ]
  },
  {
   "cell_type": "code",
   "execution_count": null,
   "id": "7e90a732",
   "metadata": {},
   "outputs": [],
   "source": [
    "from cuenta import Cuenta\n",
    "cuenta = Cuenta()\n",
    "cuenta"
   ]
  },
  {
   "cell_type": "markdown",
   "id": "7fc95392",
   "metadata": {},
   "source": [
    "## self es la referencia que sabe encontrar el objeto construido en la memoria"
   ]
  },
  {
   "cell_type": "code",
   "execution_count": null,
   "id": "b451004c",
   "metadata": {},
   "outputs": [],
   "source": [
    "class Cuenta:\n",
    "    def __init__(self, numero, titular, saldo, limite):\n",
    "        print('Construyendo el objeto...{}'.format(self))\n",
    "        self.numero = numero\n",
    "        self.titular = titular\n",
    "        self.saldo = saldo\n",
    "        self.limite = limite"
   ]
  },
  {
   "cell_type": "code",
   "execution_count": null,
   "id": "4bbe550e",
   "metadata": {},
   "outputs": [],
   "source": [
    "from cuenta import Cuenta\n",
    "cuenta = Cuenta(123, 'Anacleto Metralla', 100.0, 1000.0)"
   ]
  },
  {
   "cell_type": "code",
   "execution_count": null,
   "id": "259ffac9",
   "metadata": {},
   "outputs": [],
   "source": [
    "cuenta2 = Cuenta(321, \"Rosa Flores Rojas\", 65.0, 1000.0)"
   ]
  },
  {
   "cell_type": "code",
   "execution_count": null,
   "id": "6e1ca941",
   "metadata": {},
   "outputs": [],
   "source": [
    "cuenta"
   ]
  },
  {
   "cell_type": "code",
   "execution_count": null,
   "id": "71281187",
   "metadata": {},
   "outputs": [],
   "source": [
    "cuenta2"
   ]
  },
  {
   "cell_type": "markdown",
   "id": "2ae9b017",
   "metadata": {},
   "source": [
    "## Accesando a los atributos definidos en la clase"
   ]
  },
  {
   "cell_type": "code",
   "execution_count": null,
   "id": "8c8ce04c",
   "metadata": {},
   "outputs": [],
   "source": [
    "cuenta.saldo"
   ]
  },
  {
   "cell_type": "code",
   "execution_count": null,
   "id": "04592a35",
   "metadata": {},
   "outputs": [],
   "source": [
    "cuenta.titular"
   ]
  },
  {
   "cell_type": "code",
   "execution_count": null,
   "id": "6ca9e575",
   "metadata": {},
   "outputs": [],
   "source": [
    "cuenta2.saldo"
   ]
  },
  {
   "cell_type": "code",
   "execution_count": null,
   "id": "029d193d",
   "metadata": {},
   "outputs": [],
   "source": [
    "cuenta2.titular"
   ]
  },
  {
   "cell_type": "markdown",
   "id": "48b87976",
   "metadata": {},
   "source": [
    "## Metodos Como implementamos"
   ]
  },
  {
   "cell_type": "code",
   "execution_count": null,
   "id": "e02bff16",
   "metadata": {},
   "outputs": [],
   "source": [
    "class Cuenta:\n",
    "    def __init__(self, numero, titular, saldo, limite):\n",
    "        print('Construyendo el objeto...{}'.format(self))\n",
    "        self.numero = numero\n",
    "        self.titular = titular\n",
    "        self.saldo = saldo\n",
    "        self.limite = limite\n",
    "        \n",
    "    def extracto(self):\n",
    "        print('Saldo {} del titular {}'.format(self.saldo, self.titular))"
   ]
  },
  {
   "cell_type": "code",
   "execution_count": null,
   "id": "7db48474",
   "metadata": {},
   "outputs": [],
   "source": [
    "from cuenta import Cuenta\n",
    "cuenta = Cuenta(123, 'Anacleto Metralla', 100.0, 1000.0)"
   ]
  },
  {
   "cell_type": "code",
   "execution_count": null,
   "id": "62f3a21a",
   "metadata": {},
   "outputs": [],
   "source": [
    "extracto()"
   ]
  },
  {
   "cell_type": "code",
   "execution_count": null,
   "id": "63e749c0",
   "metadata": {},
   "outputs": [],
   "source": [
    "from cuenta import Cuenta\n",
    "cuenta = Cuenta(123, 'Anacleto Metralla', 100.0, 1000.0)"
   ]
  },
  {
   "cell_type": "code",
   "execution_count": null,
   "id": "fd98ccfb",
   "metadata": {},
   "outputs": [],
   "source": [
    "cuenta2 = Cuenta(321, \"Rosa Flores Rojas\", 65.0, 1000.0)"
   ]
  },
  {
   "cell_type": "code",
   "execution_count": null,
   "id": "123552f3",
   "metadata": {},
   "outputs": [],
   "source": [
    "cuenta.extracto()"
   ]
  },
  {
   "cell_type": "code",
   "execution_count": null,
   "id": "f2c3488c",
   "metadata": {},
   "outputs": [],
   "source": [
    "class Cuenta:\n",
    "    def __init__(self, numero, titular, saldo, limite):\n",
    "        print('Construyendo el objeto...{}'.format(self))\n",
    "        self.numero = numero\n",
    "        self.titular = titular\n",
    "        self.saldo = saldo\n",
    "        self.limite = limite\n",
    "        \n",
    "    def extracto(self):\n",
    "        print('Saldo {} del titular {}'.format(self.saldo, self.titular))\n",
    "        \n",
    "    def depositar(self, valor):\n",
    "        self.saldo += valor\n",
    "        \n",
    "    def retirar(self, valor):\n",
    "        self.saldo -= valor"
   ]
  },
  {
   "cell_type": "code",
   "execution_count": 1,
   "id": "165ab349",
   "metadata": {},
   "outputs": [
    {
     "name": "stdout",
     "output_type": "stream",
     "text": [
      "Construyendo el Objeto...<cuenta.Cuenta object at 0x000002B5C5209C10>\n"
     ]
    }
   ],
   "source": [
    "from cuenta import Cuenta\n",
    "cuenta = Cuenta(123, 'Anacleto Metralla', 100.0, 1000.0)"
   ]
  },
  {
   "cell_type": "code",
   "execution_count": 2,
   "id": "b083c8ef",
   "metadata": {},
   "outputs": [
    {
     "name": "stdout",
     "output_type": "stream",
     "text": [
      "saldo 100.0 del titular Anacleto Metralla  \n"
     ]
    }
   ],
   "source": [
    "cuenta.extracto()"
   ]
  },
  {
   "cell_type": "code",
   "execution_count": 3,
   "id": "ce04fe40",
   "metadata": {},
   "outputs": [],
   "source": [
    "cuenta.depositar(50)"
   ]
  },
  {
   "cell_type": "code",
   "execution_count": 4,
   "id": "d305006b",
   "metadata": {},
   "outputs": [
    {
     "name": "stdout",
     "output_type": "stream",
     "text": [
      "saldo 150.0 del titular Anacleto Metralla  \n"
     ]
    }
   ],
   "source": [
    "cuenta.extracto()"
   ]
  },
  {
   "cell_type": "code",
   "execution_count": 5,
   "id": "6f04a7ce",
   "metadata": {},
   "outputs": [
    {
     "name": "stdout",
     "output_type": "stream",
     "text": [
      "No tiene suficiente saldo\n"
     ]
    }
   ],
   "source": [
    "cuenta.retirar(200)"
   ]
  },
  {
   "cell_type": "code",
   "execution_count": 6,
   "id": "6f5fd23b",
   "metadata": {},
   "outputs": [
    {
     "name": "stdout",
     "output_type": "stream",
     "text": [
      "saldo 150.0 del titular Anacleto Metralla  \n"
     ]
    }
   ],
   "source": [
    "cuenta.extracto()"
   ]
  },
  {
   "cell_type": "markdown",
   "id": "6e453944",
   "metadata": {},
   "source": [
    "## Encapsulamiento"
   ]
  },
  {
   "cell_type": "code",
   "execution_count": 8,
   "id": "3d84b8a2",
   "metadata": {},
   "outputs": [
    {
     "name": "stdout",
     "output_type": "stream",
     "text": [
      "Construyendo el Objeto...<cuenta.Cuenta object at 0x000002B5C5229F90>\n"
     ]
    }
   ],
   "source": [
    "from cuenta import Cuenta\n",
    "cuenta = Cuenta(123, 'Anacleto Metralla', 100.0, 1000.0)"
   ]
  },
  {
   "cell_type": "code",
   "execution_count": 9,
   "id": "a6b06fb8",
   "metadata": {},
   "outputs": [
    {
     "data": {
      "text/plain": [
       "100.0"
      ]
     },
     "execution_count": 9,
     "metadata": {},
     "output_type": "execute_result"
    }
   ],
   "source": [
    "cuenta.saldo"
   ]
  },
  {
   "cell_type": "code",
   "execution_count": 10,
   "id": "e5d0437a",
   "metadata": {},
   "outputs": [],
   "source": [
    "cuenta.saldo = 70"
   ]
  },
  {
   "cell_type": "code",
   "execution_count": 11,
   "id": "9bfe576c",
   "metadata": {},
   "outputs": [
    {
     "name": "stdout",
     "output_type": "stream",
     "text": [
      "saldo 70 del titular Anacleto Metralla  \n"
     ]
    }
   ],
   "source": [
    "cuenta.extracto()"
   ]
  },
  {
   "cell_type": "code",
   "execution_count": null,
   "id": "6d747c41",
   "metadata": {},
   "outputs": [],
   "source": []
  }
 ],
 "metadata": {
  "kernelspec": {
   "display_name": "Python 3 (ipykernel)",
   "language": "python",
   "name": "python3"
  },
  "language_info": {
   "codemirror_mode": {
    "name": "ipython",
    "version": 3
   },
   "file_extension": ".py",
   "mimetype": "text/x-python",
   "name": "python",
   "nbconvert_exporter": "python",
   "pygments_lexer": "ipython3",
   "version": "3.11.4"
  }
 },
 "nbformat": 4,
 "nbformat_minor": 5
}
